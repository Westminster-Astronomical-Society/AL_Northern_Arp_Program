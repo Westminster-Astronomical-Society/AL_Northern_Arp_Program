{
 "cells": [
  {
   "cell_type": "markdown",
   "id": "99b452ec",
   "metadata": {},
   "source": [
    "## Send a FITS image view to SkyCharts.\n",
    "\n",
    "The SAMP (Simple Application Messaging Protocol) is a protocol for communication between astronomy applications. It allows different software to share data and commands. In this example, we will send a FITS image view to the SkyCharts application using the Astropy SAMP module."
   ]
  },
  {
   "cell_type": "code",
   "execution_count": 1,
   "id": "04df8e21",
   "metadata": {},
   "outputs": [],
   "source": [
    "import pathlib\n",
    "\n",
    "from astropy.samp import SAMPHubServer, SAMPIntegratedClient\n",
    "from astropy.table import Table"
   ]
  },
  {
   "cell_type": "markdown",
   "id": "ec298c2c",
   "metadata": {},
   "source": [
    "Create a table of FITS files in the `finder_charts` directory, with their names and full file path formatted as a URL."
   ]
  },
  {
   "cell_type": "code",
   "execution_count": 2,
   "id": "1f79eed7",
   "metadata": {},
   "outputs": [
    {
     "data": {
      "text/html": [
       "<div><i>Table length=2</i>\n",
       "<table id=\"table137981934494224\" class=\"table-striped table-bordered table-condensed\">\n",
       "<thead><tr><th>name</th><th>url</th></tr></thead>\n",
       "<thead><tr><th>str18</th><th>str90</th></tr></thead>\n",
       "<tr><td>Arp 1 DSS2 color</td><td>file:////home/chris/Projects/AL_Northern_Arp_Program/finder_charts/Arp_1_DSS2_color.fits</td></tr>\n",
       "<tr><td>Arp 153 DSS2 color</td><td>file:////home/chris/Projects/AL_Northern_Arp_Program/finder_charts/Arp_153_DSS2_color.fits</td></tr>\n",
       "</table></div>"
      ],
      "text/plain": [
       "<Table length=2>\n",
       "       name        ...\n",
       "      str18        ...\n",
       "------------------ ...\n",
       "  Arp 1 DSS2 color ...\n",
       "Arp 153 DSS2 color ..."
      ]
     },
     "execution_count": 2,
     "metadata": {},
     "output_type": "execute_result"
    }
   ],
   "source": [
    "files = [(filepath.name.split('.')[0].replace(\"_\", \" \") , f'file:///{filepath.absolute()}')\n",
    " for filepath in pathlib.Path('finder_charts').glob('**/*.fits')]\n",
    "\n",
    "fits_files = Table(rows=files, names=('name', 'url'))\n",
    "fits_files.add_index('name')\n",
    "\n",
    "fits_files"
   ]
  },
  {
   "cell_type": "markdown",
   "id": "e44aea5c",
   "metadata": {},
   "source": [
    "Start a SAMP server and connect as an integrated client. \n",
    "\n",
    "After starting the server, start SkyCharts and make sure it's connected to the SAMP hub.\n",
    "\n",
    "This will error if there is already a SAMP server running. In this case start only the client"
   ]
  },
  {
   "cell_type": "code",
   "execution_count": 8,
   "id": "264c9ab5",
   "metadata": {},
   "outputs": [
    {
     "name": "stdout",
     "output_type": "stream",
     "text": [
      "INFO: Hub set to run with Web Profile support enabled. [astropy.samp.hub]\n",
      "INFO: Hub started [astropy.samp.hub]\n"
     ]
    }
   ],
   "source": [
    "hub = SAMPHubServer(); hub.start()\n",
    "client = SAMPIntegratedClient(); client.connect()"
   ]
  },
  {
   "cell_type": "markdown",
   "id": "6eb909b6",
   "metadata": {},
   "source": [
    "Select a target and broadcast the message to all connected clients."
   ]
  },
  {
   "cell_type": "code",
   "execution_count": 4,
   "id": "c436b6ac",
   "metadata": {},
   "outputs": [],
   "source": [
    "target = fits_files.loc['Arp 153 DSS2 color']"
   ]
  },
  {
   "cell_type": "code",
   "execution_count": 5,
   "id": "a7968d5b",
   "metadata": {},
   "outputs": [
    {
     "data": {
      "text/plain": [
       "['cli#2']"
      ]
     },
     "execution_count": 5,
     "metadata": {},
     "output_type": "execute_result"
    }
   ],
   "source": [
    "params = {'url': str(target['url']),\n",
    "         'name': str(target['name']),}\n",
    "\n",
    "message = {'samp.mtype': 'image.load.fits',\n",
    "           'samp.params': params}\n",
    "\n",
    "client.notify_all(message)"
   ]
  },
  {
   "cell_type": "markdown",
   "id": "7b31b898",
   "metadata": {},
   "source": [
    "Shut down the server"
   ]
  },
  {
   "cell_type": "code",
   "execution_count": 9,
   "id": "dfee2184",
   "metadata": {},
   "outputs": [
    {
     "name": "stdout",
     "output_type": "stream",
     "text": [
      "INFO: Hub is stopping... [astropy.samp.hub]\n",
      "INFO: Hub stopped. [astropy.samp.hub]\n"
     ]
    }
   ],
   "source": [
    "client.disconnect(); hub.stop()"
   ]
  },
  {
   "cell_type": "markdown",
   "id": "d8051548",
   "metadata": {},
   "source": [
    "## SAMP via external applications.\n",
    "\n",
    "The Astropy SAMP module is not the most convenient way to interact with other applications. It is better suited to automation tasks where you need to send commands or data to other applications without user intervention.\n",
    "\n",
    "The easiest way to send a FITS image to SkyCharts is to open it in DS9 and send it to SkyCharts from there. Check to see that both applications are connected to the SAMP hub and click file -> SAMP -> image -> skycharts in menu.\n",
    "\n",
    "![DS9 SAMP](figures/DS9_SAMP.png)"
   ]
  },
  {
   "cell_type": "markdown",
   "id": "f48a2466",
   "metadata": {},
   "source": []
  }
 ],
 "metadata": {
  "kernelspec": {
   "display_name": "base",
   "language": "python",
   "name": "python3"
  },
  "language_info": {
   "codemirror_mode": {
    "name": "ipython",
    "version": 3
   },
   "file_extension": ".py",
   "mimetype": "text/x-python",
   "name": "python",
   "nbconvert_exporter": "python",
   "pygments_lexer": "ipython3",
   "version": "3.13.5"
  }
 },
 "nbformat": 4,
 "nbformat_minor": 5
}

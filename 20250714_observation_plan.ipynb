{
 "cells": [
  {
   "cell_type": "markdown",
   "id": "73c3fd2c-a523-49bd-bc09-0fbf3ce19e23",
   "metadata": {
    "user_expressions": []
   },
   "source": [
    "# Observation Plan 2025/07/14"
   ]
  },
  {
   "cell_type": "markdown",
   "id": "9eab46bc-7c56-46cc-8ce1-ea9d493f9d23",
   "metadata": {},
   "source": [
    "General imports"
   ]
  },
  {
   "cell_type": "code",
   "execution_count": 1,
   "id": "8ccd6469-25c5-4d74-8b7a-1f2be71a82f9",
   "metadata": {},
   "outputs": [],
   "source": [
    "from zoneinfo import ZoneInfo\n",
    "\n",
    "UTC = ZoneInfo('UTC')\n",
    "EST = ZoneInfo('US/Eastern')"
   ]
  },
  {
   "cell_type": "code",
   "execution_count": 2,
   "id": "4ae80ae1-aa30-49db-89c9-07b82982959d",
   "metadata": {},
   "outputs": [],
   "source": [
    "import numpy as np\n",
    "\n",
    "import matplotlib.pyplot as plt\n",
    "from matplotlib import dates\n",
    "from matplotlib.gridspec import GridSpec\n",
    "\n",
    "date_formatter = dates.DateFormatter('%H:%M')"
   ]
  },
  {
   "cell_type": "markdown",
   "id": "e11afdf3-9390-4c9b-b406-6c858ee783d1",
   "metadata": {
    "user_expressions": []
   },
   "source": [
    "Astropy imports"
   ]
  },
  {
   "cell_type": "code",
   "execution_count": 3,
   "id": "9b2694dc-39b7-4bca-9352-8a3a152b6713",
   "metadata": {},
   "outputs": [],
   "source": [
    "import astropy.units as u\n",
    "from astropy.time import Time\n",
    "from astropy.table import Table\n",
    "from astropy.coordinates import EarthLocation, SkyCoord\n",
    "\n",
    "from astroplan import Observer, FixedTarget\n",
    "from astroplan.plots import plot_airmass"
   ]
  },
  {
   "cell_type": "code",
   "execution_count": 4,
   "id": "a6f86d6d",
   "metadata": {},
   "outputs": [],
   "source": [
    "# Suppress common warnings for cleaner output\n",
    "import warnings\n",
    "warnings.filterwarnings('ignore', message='no explicit representation of timezones available for np.datetime64')\n",
    "warnings.filterwarnings('ignore', message='.*TimeDelta.*')"
   ]
  },
  {
   "cell_type": "markdown",
   "id": "63a319b2-7ea3-48ef-ae03-1f2fbac55369",
   "metadata": {},
   "source": [
    "OpenNGC catalog"
   ]
  },
  {
   "cell_type": "code",
   "execution_count": 5,
   "id": "8bba27af-150a-4628-b418-9021dd15a0b9",
   "metadata": {},
   "outputs": [],
   "source": [
    "import pyongc.ongc as ngc"
   ]
  },
  {
   "cell_type": "markdown",
   "id": "d6f1782b-4e4e-4c35-bb79-45c114895993",
   "metadata": {
    "toc-hr-collapsed": false,
    "user_expressions": []
   },
   "source": [
    "## Observer location and time"
   ]
  },
  {
   "cell_type": "markdown",
   "id": "bc1209b2-3fbf-4cca-8392-f07a9d1417e7",
   "metadata": {
    "user_expressions": []
   },
   "source": [
    "An observer can be initialized with a site from the astropy sites list. `EarthLocation.get_site_names()` will return a list of default observatories. Sites not in the default list can be defined using `EarthLocation.from_geodetic()`."
   ]
  },
  {
   "cell_type": "markdown",
   "id": "df524393-8862-46d5-a040-45511f513127",
   "metadata": {
    "user_expressions": []
   },
   "source": [
    "### Bear Branch Observatory, Westminster, MD"
   ]
  },
  {
   "cell_type": "code",
   "execution_count": 6,
   "id": "edea6a53-98b7-40b2-8a87-35667751c3b0",
   "metadata": {},
   "outputs": [],
   "source": [
    "loc_bb = EarthLocation.from_geodetic(-76.986530*u.deg, 39.647191*u.deg, 210*u.m)\n",
    "bb = Observer(location=loc_bb, name=\"Bear Branch Observatory, Westminster, MD\",\n",
    "                       timezone=\"US/Eastern\")"
   ]
  },
  {
   "cell_type": "markdown",
   "id": "e13a17a9-854f-44f0-b4cb-86720572da43",
   "metadata": {
    "user_expressions": []
   },
   "source": [
    "### Observation times"
   ]
  },
  {
   "cell_type": "markdown",
   "id": "530519cb-3909-4011-bc3f-2b8b002dd964",
   "metadata": {
    "user_expressions": []
   },
   "source": [
    "UTC Date and Time for obervations"
   ]
  },
  {
   "cell_type": "code",
   "execution_count": 7,
   "id": "65da34f4-922a-423b-9771-f796c20c14d8",
   "metadata": {},
   "outputs": [],
   "source": [
    "time = Time('2025-07-14 16:00:00', location=loc_bb) # 2025-07-14 12:00:00 EDT"
   ]
  },
  {
   "cell_type": "markdown",
   "id": "437c5963-0565-4c56-81f6-3b8ed475267c",
   "metadata": {
    "user_expressions": []
   },
   "source": [
    "Sunset, Sunrise, and astronomical twilight."
   ]
  },
  {
   "cell_type": "code",
   "execution_count": 8,
   "id": "ea6de262-29d2-47dc-ad0c-eb4c85bd2e67",
   "metadata": {},
   "outputs": [],
   "source": [
    "sunset = bb.sun_set_time(time, which='next')\n",
    "end_ast_twi = bb.twilight_evening_astronomical(time, which='next')\n",
    "begin_ast_twi = bb.twilight_morning_astronomical(time, which='next')\n",
    "sunrise = bb.sun_rise_time(time, which='next')"
   ]
  },
  {
   "cell_type": "markdown",
   "id": "96003e67-7dd3-45ab-b990-e4724359f8c8",
   "metadata": {
    "user_expressions": []
   },
   "source": [
    "Set up the range for airmass plots. Returns `observe_time`, an array of UTC julian dates 2 h before sunset to 2 h after sunrise the following day."
   ]
  },
  {
   "cell_type": "code",
   "execution_count": 9,
   "id": "cbac09dd-0811-4281-be51-81a7aa428c7e",
   "metadata": {},
   "outputs": [],
   "source": [
    "start_time = sunset + 30*u.minute\n",
    "start_time = Time(start_time.datetime.replace(minute=0, second=0, microsecond=0))-2*u.h\n",
    "end_time = sunrise + 30*u.minute\n",
    "end_time = Time(end_time.datetime.replace(minute=0, second=0, microsecond=0))+2*u.h"
   ]
  },
  {
   "cell_type": "code",
   "execution_count": 10,
   "id": "7453068f-ba24-4e1f-80d1-8f237effb761",
   "metadata": {},
   "outputs": [],
   "source": [
    "t_delta = end_time - start_time\n",
    "observe_time = start_time + t_delta*np.linspace(0, 1, 75)"
   ]
  },
  {
   "cell_type": "markdown",
   "id": "bdb4ab2b-d8a8-46a6-a40b-a22e2e316510",
   "metadata": {
    "user_expressions": []
   },
   "source": [
    "Set observation window (ast twilight plus four)."
   ]
  },
  {
   "cell_type": "raw",
   "id": "b035bd48-a313-4e95-8dcc-b96e94223910",
   "metadata": {
    "tags": [],
    "vscode": {
     "languageId": "raw"
    }
   },
   "source": [
    "begin_obs = end_ast_twi\n",
    "end_obs = begin_obs + 4*u.hour\n",
    "obs_window = Time([begin_obs, end_obs])"
   ]
  },
  {
   "cell_type": "markdown",
   "id": "f297de3c-0f56-4199-bdc5-5a89ca3716cd",
   "metadata": {
    "user_expressions": []
   },
   "source": [
    "Sun and Moon for the observation window"
   ]
  },
  {
   "cell_type": "code",
   "execution_count": 11,
   "id": "379128a8-7faa-4b2c-a8d4-b9b130c57808",
   "metadata": {},
   "outputs": [
    {
     "name": "stdout",
     "output_type": "stream",
     "text": [
      "Sunset:        Jul 14 20:30 EDT\n",
      "End Ast Twi:   Jul 14 22:31 EDT\n",
      "Begin Ast Twi: Jul 15 03:57 EDT\n",
      "Sunrise:       Jul 15 05:57 EDT\n"
     ]
    }
   ],
   "source": [
    "local_sunset = sunset.to_datetime(timezone=UTC).astimezone(EST)\n",
    "local_end_ast_twi = end_ast_twi.to_datetime(timezone=UTC).astimezone(EST)\n",
    "local_begin_ast_twi = begin_ast_twi.to_datetime(timezone=UTC).astimezone(EST)\n",
    "local_sunrise = sunrise.to_datetime(timezone=UTC).astimezone(EST)\n",
    "\n",
    "print(f\"Sunset: {local_sunset.strftime('%b %-d %H:%M %Z'):>23}\")\n",
    "print(f\"End Ast Twi: {local_end_ast_twi.strftime('%b %-d %H:%M %Z'):>18}\")\n",
    "print(f\"Begin Ast Twi: {local_begin_ast_twi.strftime('%b %-d %H:%M %Z'):>16}\")\n",
    "print(f\"Sunrise: {local_sunrise.strftime('%b %-d %H:%M %Z'):>22}\")"
   ]
  },
  {
   "cell_type": "code",
   "execution_count": 12,
   "id": "4f4b8b45-3f9f-46e3-baa1-8d2fadcc9148",
   "metadata": {},
   "outputs": [
    {
     "name": "stdout",
     "output_type": "stream",
     "text": [
      "Moonrise: Jul 14 23:02 EDT\n",
      "Moonset:  Jul 14 09:44 EDT\n",
      "Illumination: 80.7%\n"
     ]
    }
   ],
   "source": [
    "moonrise = bb.moon_rise_time(time, horizon=-50*u.arcmin, which='nearest').to_datetime(timezone=UTC)\n",
    "moonset = bb.moon_set_time(time, horizon=-50*u.arcmin, which='nearest').to_datetime(timezone=UTC)\n",
    "illum = bb.moon_illumination(end_ast_twi)\n",
    "\n",
    "print(f\"Moonrise: {moonrise.astimezone(EST).strftime('%b %-d %H:%M %Z'):>16}\")\n",
    "print(f\"Moonset: {moonset.astimezone(EST).strftime('%b %-d %H:%M %Z'):>17}\")\n",
    "print(f\"Illumination: {illum*100:>3.1f}%\")"
   ]
  },
  {
   "cell_type": "markdown",
   "id": "3c9e321b-c633-4635-b62b-aa770d088377",
   "metadata": {},
   "source": [
    "Zenith coordinates at astronomical twilight"
   ]
  },
  {
   "cell_type": "code",
   "execution_count": 13,
   "id": "35e1cbce-7e24-4ca8-aa14-e6af68f1f99e",
   "metadata": {},
   "outputs": [
    {
     "name": "stdout",
     "output_type": "stream",
     "text": [
      "Zenith: 16h55m00.2s, 39d41m11.3s\n"
     ]
    }
   ],
   "source": [
    "Z = SkyCoord(alt=90*u.deg, az=0*u.deg, obstime=end_ast_twi, location=loc_bb, frame='altaz').icrs\n",
    "print(f'Zenith: {Z.ra.to_string(unit=u.hourangle, precision=1):>10}, {Z.dec.to_string(precision=1)}')"
   ]
  },
  {
   "cell_type": "markdown",
   "id": "a0ea2b4d-ee2e-4c9f-9963-316e9a3f5da4",
   "metadata": {
    "user_expressions": []
   },
   "source": [
    "## Targets"
   ]
  },
  {
   "cell_type": "code",
   "execution_count": 14,
   "id": "ac96cca5",
   "metadata": {},
   "outputs": [],
   "source": [
    "target_list = Table.read('arp_targets.csv', format='csv')\n",
    "target_list.add_index('Arp')"
   ]
  },
  {
   "cell_type": "code",
   "execution_count": 15,
   "id": "bba725bc",
   "metadata": {},
   "outputs": [
    {
     "data": {
      "text/html": [
       "<div><i>Table length=16</i>\n",
       "<table id=\"table135542026974800\" class=\"table-striped table-bordered table-condensed\">\n",
       "<thead><tr><th>Arp</th><th>Name</th><th>VT</th><th>u_VT</th><th>dim1</th><th>dim2</th><th>u_dim2</th><th>MType</th><th>Uchart</th><th>RAJ2000</th><th>DEJ2000</th><th>Const</th></tr></thead>\n",
       "<thead><tr><th>int64</th><th>str11</th><th>float64</th><th>int64</th><th>float64</th><th>float64</th><th>int64</th><th>str13</th><th>int64</th><th>str10</th><th>str9</th><th>str14</th></tr></thead>\n",
       "<tr><td>13</td><td>NGC 7448</td><td>11.6</td><td>--</td><td>2.7</td><td>1.2</td><td>--</td><td>SA(rs)bc</td><td>213</td><td>23 00 02.4</td><td>+15 59 22</td><td>Pegasus</td></tr>\n",
       "<tr><td>25</td><td>NGC 2276</td><td>11.4</td><td>--</td><td>2.8</td><td>2.7</td><td>--</td><td>SAB(rs)c</td><td>1</td><td>07 27 13.0</td><td>+85 45 20</td><td>Cepheus</td></tr>\n",
       "<tr><td>26</td><td>MESSIER 101</td><td>7.9</td><td>--</td><td>28.9</td><td>27.0</td><td>--</td><td>SAB(rs)cd I</td><td>49</td><td>14 03 12.7</td><td>+54 21 02</td><td>Ursa Major</td></tr>\n",
       "<tr><td>28</td><td>NGC 7678</td><td>11.8</td><td>--</td><td>2.4</td><td>1.7</td><td>--</td><td>SAB(rs)c I-II</td><td>169</td><td>23 28 27.8</td><td>+22 25 16</td><td>Pegasus</td></tr>\n",
       "<tr><td>29</td><td>NGC 6946</td><td>8.8</td><td>--</td><td>11.6</td><td>9.9</td><td>--</td><td>SAB(rs)cd</td><td>32</td><td>20 34 52.2</td><td>+60 09 14</td><td>Cepheus</td></tr>\n",
       "<tr><td>38</td><td>NGC 6412</td><td>11.7</td><td>--</td><td>2.5</td><td>2.2</td><td>--</td><td>SAS5</td><td>12</td><td>17 29 36.2</td><td>+75 42 17</td><td>Draco</td></tr>\n",
       "<tr><td>85</td><td>MESSIER 51A</td><td>8.4</td><td>--</td><td>11.4</td><td>7.0</td><td>--</td><td>SA(s)bc pec</td><td>76</td><td>13 29 52.3</td><td>+47 11 54</td><td>Canes Venatici</td></tr>\n",
       "<tr><td>85</td><td>MESSIER 51B</td><td>9.6</td><td>--</td><td>5.8</td><td>4.6</td><td>--</td><td>I0 pec</td><td>76</td><td>13 29 58.6</td><td>+47 16 04</td><td>Canes Venatici</td></tr>\n",
       "<tr><td>86</td><td>NGC 7753</td><td>12.0</td><td>--</td><td>3.3</td><td>2.1</td><td>--</td><td>SAB(rs)bc I</td><td>89</td><td>23 47 04.7</td><td>+29 29 01</td><td>Pegasus</td></tr>\n",
       "<tr><td>168</td><td>MESSIER 32</td><td>9.0</td><td>--</td><td>8.8</td><td>6.5</td><td>--</td><td>cE2</td><td>60</td><td>00 42 41.8</td><td>+40 51 52</td><td>Andromeda</td></tr>\n",
       "<tr><td>178</td><td>NGC 5614</td><td>11.7</td><td>--</td><td>2.5</td><td>2.0</td><td>--</td><td>SA(r)ab pec</td><td>111</td><td>14 24 07.5</td><td>+34 51 31</td><td>Boötes</td></tr>\n",
       "<tr><td>185</td><td>NGC 6217</td><td>11.2</td><td>--</td><td>3.0</td><td>2.5</td><td>--</td><td>(R)SB(rs)bc</td><td>11</td><td>16 32 40.0</td><td>+78 11 57</td><td>Ursa Minor</td></tr>\n",
       "<tr><td>213</td><td>IC 0356</td><td>10.5</td><td>--</td><td>5.3</td><td>3.9</td><td>--</td><td>SA(s)ab pec</td><td>18</td><td>04 07 47.1</td><td>+69 48 47</td><td>Camelopardalis</td></tr>\n",
       "<tr><td>223</td><td>NGC 7585</td><td>11.4</td><td>--</td><td>2.3</td><td>2.0</td><td>--</td><td>SA?0^0 pec</td><td>259</td><td>23 18 02.1</td><td>-04 38 56</td><td>Aquarius</td></tr>\n",
       "<tr><td>225</td><td>NGC 2655</td><td>10.1</td><td>--</td><td>4.9</td><td>4.1</td><td>--</td><td>SAB(s)0/a</td><td>7</td><td>08 55 38.8</td><td>+78 13 28</td><td>Camelopardalis</td></tr>\n",
       "<tr><td>331</td><td>NGC 0383</td><td>11.9</td><td>--</td><td>1.6</td><td>1.4</td><td>--</td><td>SA0-</td><td>91</td><td>01 07 24.9</td><td>+32 24 45</td><td>Pisces</td></tr>\n",
       "</table></div>"
      ],
      "text/plain": [
       "<Table length=16>\n",
       " Arp      Name       VT    u_VT ... Uchart  RAJ2000    DEJ2000      Const     \n",
       "int64    str11    float64 int64 ... int64    str10       str9       str14     \n",
       "----- ----------- ------- ----- ... ------ ---------- --------- --------------\n",
       "   13    NGC 7448    11.6    -- ...    213 23 00 02.4 +15 59 22        Pegasus\n",
       "   25    NGC 2276    11.4    -- ...      1 07 27 13.0 +85 45 20        Cepheus\n",
       "   26 MESSIER 101     7.9    -- ...     49 14 03 12.7 +54 21 02     Ursa Major\n",
       "   28    NGC 7678    11.8    -- ...    169 23 28 27.8 +22 25 16        Pegasus\n",
       "   29    NGC 6946     8.8    -- ...     32 20 34 52.2 +60 09 14        Cepheus\n",
       "   38    NGC 6412    11.7    -- ...     12 17 29 36.2 +75 42 17          Draco\n",
       "   85 MESSIER 51A     8.4    -- ...     76 13 29 52.3 +47 11 54 Canes Venatici\n",
       "   85 MESSIER 51B     9.6    -- ...     76 13 29 58.6 +47 16 04 Canes Venatici\n",
       "   86    NGC 7753    12.0    -- ...     89 23 47 04.7 +29 29 01        Pegasus\n",
       "  168  MESSIER 32     9.0    -- ...     60 00 42 41.8 +40 51 52      Andromeda\n",
       "  178    NGC 5614    11.7    -- ...    111 14 24 07.5 +34 51 31         Boötes\n",
       "  185    NGC 6217    11.2    -- ...     11 16 32 40.0 +78 11 57     Ursa Minor\n",
       "  213     IC 0356    10.5    -- ...     18 04 07 47.1 +69 48 47 Camelopardalis\n",
       "  223    NGC 7585    11.4    -- ...    259 23 18 02.1 -04 38 56       Aquarius\n",
       "  225    NGC 2655    10.1    -- ...      7 08 55 38.8 +78 13 28 Camelopardalis\n",
       "  331    NGC 0383    11.9    -- ...     91 01 07 24.9 +32 24 45         Pisces"
      ]
     },
     "execution_count": 15,
     "metadata": {},
     "output_type": "execute_result"
    }
   ],
   "source": [
    "target_list"
   ]
  },
  {
   "cell_type": "code",
   "execution_count": 16,
   "id": "f156495a",
   "metadata": {},
   "outputs": [],
   "source": [
    "targets = [FixedTarget(SkyCoord(ra=t['RAJ2000'], dec=t['DEJ2000'], frame='icrs',\n",
    "             unit=(u.hourangle, u.deg)), name=f'Arp {t['Arp']} ({t['Name']})') for t in target_list]"
   ]
  },
  {
   "cell_type": "markdown",
   "id": "cd189046-8de4-4c08-bdc2-c6419592ef28",
   "metadata": {
    "user_expressions": []
   },
   "source": [
    "## Airmass plots"
   ]
  },
  {
   "cell_type": "code",
   "execution_count": 17,
   "id": "d816d945-e0ff-40cf-9eb8-c0da0da008df",
   "metadata": {
    "tags": []
   },
   "outputs": [],
   "source": [
    "moon = bb.moon_altaz(observe_time).alt\n",
    "masked_moon = np.ma.array(moon, mask=moon < 0)\n",
    "illum = bb.moon_illumination(end_ast_twi)"
   ]
  },
  {
   "cell_type": "code",
   "execution_count": 18,
   "id": "cabf1b4e-aaa9-448f-bfa5-30c4f49db8bf",
   "metadata": {},
   "outputs": [
    {
     "data": {
      "image/png": "[encoded data removed]",
      "text/plain": [
       "<Figure size 1000x500 with 3 Axes>"
      ]
     },
     "metadata": {},
     "output_type": "display_data"
    }
   ],
   "source": [
    "fig = plt.figure(figsize=(10,5), constrained_layout=True)\n",
    "fig.suptitle('Arp Galaxies, 2025/07/14')\n",
    "gs = GridSpec(3, 1, figure=fig)\n",
    "\n",
    "ax2 = fig.add_subplot(gs[1:,0])\n",
    "ax1 = fig.add_subplot(gs[0,0], sharex=ax2)\n",
    "ax1.grid(True, alpha=.5)\n",
    "ax1.set_ylabel('Alt [deg]')\n",
    "ax1.plot(observe_time.plot_date, masked_moon, '-k', label=f'Moon: {illum:2.0%}')\n",
    "ax1.legend(loc='upper left')\n",
    "\n",
    "ax2.grid(True, alpha=.5)\n",
    "plot_airmass(targets[4], bb, observe_time, altitude_yaxis=True, brightness_shading=True, max_airmass=2.5, ax=ax2)\n",
    "ax2.legend(loc='upper left')\n",
    "\n",
    "plt.savefig('./plots/arp_2025-07-14_1.pdf')"
   ]
  },
  {
   "cell_type": "code",
   "execution_count": 19,
   "id": "79068f22",
   "metadata": {},
   "outputs": [
    {
     "name": "stdout",
     "output_type": "stream",
     "text": [
      "+-----------------------------------------------------------------------------+\n",
      "| Id: 13013     Name: NGC6946           Type: Galaxy                          |\n",
      "| R.A.: 20:34:52.32      Dec.: +60:09:14.1      Constellation: Cyg            |\n",
      "| Common names:                                                               |\n",
      "|    Fireworks Galaxy                                                         |\n",
      "+-----------------------------------------------------------------------------+\n",
      "| Major axis: 11.4'      Minor axis: 10.84'     Position angle: 52°           |\n",
      "| B-mag: 9.76    V-mag: 9.05    J-mag: 6.27    H-mag: 5.91    K-mag: 5.37     |\n",
      "|                                                                             |\n",
      "| Parallax: N/A          Radial velocity: 45km/s        Redshift: 0.000150    |\n",
      "|                                                                             |\n",
      "| Proper apparent motion in RA: N/A                                           |\n",
      "| Proper apparent motion in Dec: N/A                                          |\n",
      "|                                                                             |\n",
      "| Surface brightness: 23.73     Hubble classification: SABc                   |\n",
      "+-----------------------------------------------------------------------------+\n",
      "| Other identifiers:                                                          |\n",
      "|    2MASX J20345233+6009132, C 012, IRAS 20338+5958, MCG +10-29-006, PGC     |\n",
      "|    065001, UGC 11597                                                        |\n",
      "+-----------------------------------------------------------------------------+\n",
      "\n"
     ]
    }
   ],
   "source": [
    "print(ngc.printDetails(ngc.Dso(target_list.loc[29]['Name'])))"
   ]
  },
  {
   "cell_type": "code",
   "execution_count": null,
   "id": "b9d64894-cf67-4f68-81ae-433f03296555",
   "metadata": {},
   "outputs": [],
   "source": []
  }
 ],
 "metadata": {
  "kernelspec": {
   "display_name": "base",
   "language": "python",
   "name": "python3"
  },
  "language_info": {
   "codemirror_mode": {
    "name": "ipython",
    "version": 3
   },
   "file_extension": ".py",
   "mimetype": "text/x-python",
   "name": "python",
   "nbconvert_exporter": "python",
   "pygments_lexer": "ipython3",
   "version": "3.13.5"
  }
 },
 "nbformat": 4,
 "nbformat_minor": 5
}
